{
 "cells": [
  {
   "cell_type": "markdown",
   "metadata": {},
   "source": [
    "# Simple Classifier / Logistic Regression\n",
    "\n",
    "After having worked with the Dataloading, we want to start to take a more detailed look into how the training process looks like. So far, our tools are limited and we must restrict ourselves to a simplified model. But nevertheless, this gives us the opportunity to look at the different parts of the training process in more detail and builds up a good base when we turn to more complicated model architectures in the next exercises. \n",
    "\n",
    "This notebook will demonstrate a simple logistic regression model predicting whether a house is ```low-priced``` or ```expensive```. The data that we will use here is the HousingPrice dataset. Feeding some features in our classifier, the output should then be a score that determines in which category the considered house is.\n"
   ]
  },
  {
   "cell_type": "markdown",
   "metadata": {},
   "source": [
    "Before we start, let us first import some libraries and code that we will need along the way. "
   ]
  },
  {
   "cell_type": "code",
   "execution_count": 1,
   "metadata": {
    "pycharm": {
     "name": "#%%\n"
    }
   },
   "outputs": [],
   "source": [
    "import matplotlib.pyplot as plt\n",
    "import pandas as pd\n",
    "\n",
    "pd.options.mode.chained_assignment = None  # default='warn'\n",
    "\n",
    "%matplotlib inline\n",
    "%load_ext autoreload\n",
    "%autoreload 2"
   ]
  },
  {
   "cell_type": "markdown",
   "metadata": {},
   "source": [
    "## 0. Dataloading and Data Preprocessing\n",
    "\n",
    "Let us load the data that we want to use for our training. The method `get_housing_data()` is providing you with a training, validation and test set that is ready to use.\n",
    "\n",
    "For more information about how to prepare the data and what the final data look like, you can have a look at the notebook `housing_data_preprocessing(optional).ipynb `. We reduced our data and the remaining houses in our dataset are now either labeled with ```1``` and hence categorized as ```expensive```, or they are labeled with ```0``` and hence categorized as ```low-priced```.\n"
   ]
  },
  {
   "cell_type": "code",
   "execution_count": 2,
   "metadata": {
    "pycharm": {
     "name": "#%%\n"
    }
   },
   "outputs": [
    {
     "name": "stdout",
     "output_type": "stream",
     "text": [
      "You successfully loaded your data! \n",
      "\n",
      "train data shape: (1048, 1)\n",
      "train targets shape: (1048, 1)\n",
      "val data shape: (358, 1)\n",
      "val targets shape: (358, 1)\n",
      "test data shape: (363, 1)\n",
      "test targets shape: (363, 1) \n",
      "\n",
      "The original dataset looks as follows:\n"
     ]
    },
    {
     "data": {
      "text/html": [
       "<div>\n",
       "<style scoped>\n",
       "    .dataframe tbody tr th:only-of-type {\n",
       "        vertical-align: middle;\n",
       "    }\n",
       "\n",
       "    .dataframe tbody tr th {\n",
       "        vertical-align: top;\n",
       "    }\n",
       "\n",
       "    .dataframe thead th {\n",
       "        text-align: right;\n",
       "    }\n",
       "</style>\n",
       "<table border=\"1\" class=\"dataframe\">\n",
       "  <thead>\n",
       "    <tr style=\"text-align: right;\">\n",
       "      <th></th>\n",
       "      <th>Order</th>\n",
       "      <th>PID</th>\n",
       "      <th>MS SubClass</th>\n",
       "      <th>MS Zoning</th>\n",
       "      <th>Lot Frontage</th>\n",
       "      <th>Lot Area</th>\n",
       "      <th>Street</th>\n",
       "      <th>Alley</th>\n",
       "      <th>Lot Shape</th>\n",
       "      <th>Land Contour</th>\n",
       "      <th>...</th>\n",
       "      <th>Pool Area</th>\n",
       "      <th>Pool QC</th>\n",
       "      <th>Fence</th>\n",
       "      <th>Misc Feature</th>\n",
       "      <th>Misc Val</th>\n",
       "      <th>Mo Sold</th>\n",
       "      <th>Yr Sold</th>\n",
       "      <th>Sale Type</th>\n",
       "      <th>Sale Condition</th>\n",
       "      <th>SalePrice</th>\n",
       "    </tr>\n",
       "  </thead>\n",
       "  <tbody>\n",
       "    <tr>\n",
       "      <th>2216</th>\n",
       "      <td>2217</td>\n",
       "      <td>909279080</td>\n",
       "      <td>50</td>\n",
       "      <td>RL</td>\n",
       "      <td>NaN</td>\n",
       "      <td>11275</td>\n",
       "      <td>Pave</td>\n",
       "      <td>NaN</td>\n",
       "      <td>IR1</td>\n",
       "      <td>HLS</td>\n",
       "      <td>...</td>\n",
       "      <td>0</td>\n",
       "      <td>NaN</td>\n",
       "      <td>NaN</td>\n",
       "      <td>NaN</td>\n",
       "      <td>0</td>\n",
       "      <td>3</td>\n",
       "      <td>2007</td>\n",
       "      <td>WD</td>\n",
       "      <td>Normal</td>\n",
       "      <td>220000</td>\n",
       "    </tr>\n",
       "    <tr>\n",
       "      <th>836</th>\n",
       "      <td>837</td>\n",
       "      <td>907126050</td>\n",
       "      <td>20</td>\n",
       "      <td>RL</td>\n",
       "      <td>65.0</td>\n",
       "      <td>9757</td>\n",
       "      <td>Pave</td>\n",
       "      <td>NaN</td>\n",
       "      <td>Reg</td>\n",
       "      <td>Low</td>\n",
       "      <td>...</td>\n",
       "      <td>0</td>\n",
       "      <td>NaN</td>\n",
       "      <td>NaN</td>\n",
       "      <td>NaN</td>\n",
       "      <td>0</td>\n",
       "      <td>10</td>\n",
       "      <td>2009</td>\n",
       "      <td>WD</td>\n",
       "      <td>Normal</td>\n",
       "      <td>143000</td>\n",
       "    </tr>\n",
       "    <tr>\n",
       "      <th>2396</th>\n",
       "      <td>2397</td>\n",
       "      <td>528144030</td>\n",
       "      <td>60</td>\n",
       "      <td>RL</td>\n",
       "      <td>86.0</td>\n",
       "      <td>11065</td>\n",
       "      <td>Pave</td>\n",
       "      <td>NaN</td>\n",
       "      <td>IR1</td>\n",
       "      <td>Lvl</td>\n",
       "      <td>...</td>\n",
       "      <td>0</td>\n",
       "      <td>NaN</td>\n",
       "      <td>NaN</td>\n",
       "      <td>NaN</td>\n",
       "      <td>0</td>\n",
       "      <td>10</td>\n",
       "      <td>2006</td>\n",
       "      <td>New</td>\n",
       "      <td>Partial</td>\n",
       "      <td>281000</td>\n",
       "    </tr>\n",
       "    <tr>\n",
       "      <th>1962</th>\n",
       "      <td>1963</td>\n",
       "      <td>535452060</td>\n",
       "      <td>20</td>\n",
       "      <td>RL</td>\n",
       "      <td>70.0</td>\n",
       "      <td>7000</td>\n",
       "      <td>Pave</td>\n",
       "      <td>NaN</td>\n",
       "      <td>Reg</td>\n",
       "      <td>Lvl</td>\n",
       "      <td>...</td>\n",
       "      <td>0</td>\n",
       "      <td>NaN</td>\n",
       "      <td>MnWw</td>\n",
       "      <td>NaN</td>\n",
       "      <td>0</td>\n",
       "      <td>4</td>\n",
       "      <td>2007</td>\n",
       "      <td>WD</td>\n",
       "      <td>Family</td>\n",
       "      <td>135000</td>\n",
       "    </tr>\n",
       "    <tr>\n",
       "      <th>305</th>\n",
       "      <td>306</td>\n",
       "      <td>911202100</td>\n",
       "      <td>50</td>\n",
       "      <td>C (all)</td>\n",
       "      <td>66.0</td>\n",
       "      <td>8712</td>\n",
       "      <td>Pave</td>\n",
       "      <td>Pave</td>\n",
       "      <td>Reg</td>\n",
       "      <td>HLS</td>\n",
       "      <td>...</td>\n",
       "      <td>0</td>\n",
       "      <td>NaN</td>\n",
       "      <td>NaN</td>\n",
       "      <td>NaN</td>\n",
       "      <td>0</td>\n",
       "      <td>1</td>\n",
       "      <td>2010</td>\n",
       "      <td>WD</td>\n",
       "      <td>Abnorml</td>\n",
       "      <td>102776</td>\n",
       "    </tr>\n",
       "  </tbody>\n",
       "</table>\n",
       "<p>5 rows × 82 columns</p>\n",
       "</div>"
      ],
      "text/plain": [
       "      Order        PID  MS SubClass MS Zoning  Lot Frontage  Lot Area Street  \\\n",
       "2216   2217  909279080           50        RL           NaN     11275   Pave   \n",
       "836     837  907126050           20        RL          65.0      9757   Pave   \n",
       "2396   2397  528144030           60        RL          86.0     11065   Pave   \n",
       "1962   1963  535452060           20        RL          70.0      7000   Pave   \n",
       "305     306  911202100           50   C (all)          66.0      8712   Pave   \n",
       "\n",
       "     Alley Lot Shape Land Contour  ... Pool Area Pool QC Fence Misc Feature  \\\n",
       "2216   NaN       IR1          HLS  ...         0     NaN   NaN          NaN   \n",
       "836    NaN       Reg          Low  ...         0     NaN   NaN          NaN   \n",
       "2396   NaN       IR1          Lvl  ...         0     NaN   NaN          NaN   \n",
       "1962   NaN       Reg          Lvl  ...         0     NaN  MnWw          NaN   \n",
       "305   Pave       Reg          HLS  ...         0     NaN   NaN          NaN   \n",
       "\n",
       "     Misc Val Mo Sold Yr Sold Sale Type  Sale Condition  SalePrice  \n",
       "2216        0       3    2007       WD           Normal     220000  \n",
       "836         0      10    2009       WD           Normal     143000  \n",
       "2396        0      10    2006       New         Partial     281000  \n",
       "1962        0       4    2007       WD           Family     135000  \n",
       "305         0       1    2010       WD          Abnorml     102776  \n",
       "\n",
       "[5 rows x 82 columns]"
      ]
     },
     "execution_count": 2,
     "metadata": {},
     "output_type": "execute_result"
    }
   ],
   "source": [
    "from dl_zero2one.networks.utils import *\n",
    "\n",
    "X_train, y_train, X_val, y_val, X_test, y_test, train_dataset = get_housing_data()\n",
    "\n",
    "print(\"train data shape:\", X_train.shape)\n",
    "print(\"train targets shape:\", y_train.shape)\n",
    "print(\"val data shape:\", X_val.shape)\n",
    "print(\"val targets shape:\", y_val.shape)\n",
    "print(\"test data shape:\", X_test.shape)\n",
    "print(\"test targets shape:\", y_test.shape, '\\n')\n",
    "\n",
    "print('The original dataset looks as follows:')\n",
    "train_dataset.df.head()"
   ]
  },
  {
   "cell_type": "markdown",
   "metadata": {
    "pycharm": {
     "name": "#%% md\n"
    }
   },
   "source": [
    "The data is now ready and can be used to train our classifier model."
   ]
  },
  {
   "cell_type": "markdown",
   "metadata": {},
   "source": [
    "## 1. Set up a Classifier Model\n",
    "\n",
    "Let $\\mathbf{X} \\in \\mathbb{R}^{N\\times (D+1)}$ be our data with $N$ samples and $D$ feature dimensions. With our classifier model, we want to predict binary labels $\\mathbf{\\hat{y}} \\in \\mathbb{R}^{N\\times 1}$. Our classifier model should be of the form\n",
    "\n",
    "$$ \\mathbf{\\hat{y}}  = \\sigma \\left( \\mathbf{X} \\cdot \\mathbf{w} \\right), $$ \n",
    "\n",
    "$ $ where $\\mathbf{w}\\in \\mathbb{R}^{(D+1) \\times 1}$ is the weight matrix of our model.\n",
    "\n",
    "The **sigmoid function** $\\sigma: \\mathbb{R} \\to [0, 1]$, defined by \n",
    "\n",
    "$$ \\sigma(t) = \\frac{1}{1+e^{-t}}, $$\n",
    "\n",
    "is used to squash the outputs of the linear layer into the interval $[0, 1]$. Remember that the sigmoid function is a real-valued function. When applying it on a vector, the sigmoid is operating component-wise.\n",
    "\n",
    "The output of the sigmoid function can be seen as the probability that our sample is indicating a house that can be categorized as ```expensive```. As the probability gets closer to 1, our model is more confident that the input sample is in the class ```expensive```.\n",
    "\n",
    "<img src=\"https://miro.medium.com/max/2400/1*RqXFpiNGwdiKBWyLJc_E7g.png\" width=\"800\">"
   ]
  },
  {
   "cell_type": "markdown",
   "metadata": {},
   "source": [
    "\n",
    "In the ```Classifier``` class in  ```dl_zero2one/networks/classifier.py``` a basic classifier is implemented. We can define the number of features that our classifier model takes as input."
   ]
  },
  {
   "cell_type": "markdown",
   "metadata": {},
   "source": [
    "## 2. Loss: Binary Cross Entropy\n",
    "\n",
    "For a binary classification like our task, we use a loss function called Binary Cross-Entropy (BCE).\n",
    "\n",
    "$$BCE(y,\\hat{y}) =- y \\cdot log(\\hat y ) - (1- y) \\cdot log(1-\\hat y) $$\n",
    "\n",
    "where $y\\in\\mathbb{R}$ is the ground truth and $\\hat y\\in\\mathbb{R}$ is the predicted probability of the house being expensive.\n",
    "\n",
    "Since the BCE function is a non-convex function, there is no closed-form solution for the optimal weights vector. In order to find the optimal parameters for our model, we need to use numeric methods such as Gradient Descent. But let us have a look at that later. First, you have to complete your first task:"
   ]
  },
  {
   "cell_type": "markdown",
   "metadata": {},
   "source": [
    "Check out the BCE loss in ```dl_zero2one/networks/loss.py``` (forward and backward pass)\n"
   ]
  },
  {
   "cell_type": "code",
   "execution_count": 3,
   "metadata": {
    "pycharm": {
     "name": "#%%\n"
    }
   },
   "outputs": [],
   "source": [
    "from dl_zero2one.networks.loss import BCE\n",
    "\n",
    "bce_loss = BCE()"
   ]
  },
  {
   "cell_type": "markdown",
   "metadata": {
    "pycharm": {
     "name": "#%% md\n"
    }
   },
   "source": [
    "## 3. Backpropagation\n",
    "\n",
    "The backpropagation algorithm allows the information from the loss flowing backward through the network in order to compute the gradient of the loss function $L$ w.r.t the weights $w$ of the model. \n",
    "\n",
    "The key idea of backpropagation is decomposing the derivatives by applying the chain rule to the loss function.\n",
    "\n",
    "$$ \\frac{\\partial L(w)}{\\partial w} = \\frac{\\partial L(w)}{\\partial \\hat y} \\cdot \\frac{\\partial \\hat y}{\\partial w}$$\n",
    "\n",
    "We have already implemted the `forward()` and `backward()` pass of the loss function, which can be used to compute the derivative  $\\frac{\\partial L(w)}{\\partial \\hat y}$. In order to compute the second term $\\frac{\\partial \\hat y}{\\partial w}$, we use a similar `forward()` and `backward()` method in our `Classifier` class.\n",
    "\n",
    "### Backward Pass\n",
    "\n",
    "The backward pass consists of computing the derivative $\\frac{\\partial \\hat y}{\\partial w}$. Again, we can decompose this derivative by the chain rule: For $s = X \\cdot w$ we obtain\n",
    "\n",
    "$$\\frac{\\partial \\hat y}{\\partial w} = \\frac{\\partial \\sigma(s)}{\\partial w} = \\frac{\\partial \\sigma(s)}{\\partial s} \\cdot \\frac{\\partial s}{\\partial w}$$\n",
    "\n",
    "\n",
    "**Hint:** Taking track of the dimensions in higher-dimensional settings can make the task a little bit complicated. We need to understand the operations here. First we need to understand the forward and backward pass if the input is only one sample consisting of $D+1$ features. Then our data matrix has dimension $X \\in \\mathbb{R}^{1 \\times (D+1)}$. Second we can go back to the setting where our data matrix has dimension $X \\in \\mathbb{R}^{N \\times (D+1)}$ and consists of $N$ samples each having $D+1$ features."
   ]
  },
  {
   "cell_type": "markdown",
   "metadata": {},
   "source": [
    "## 4. Optimizer and Gradient Descent\n",
    "\n",
    "Previously, we have successfully dealt with the loss function, which is a method of measuring how well our model fits the given data. The idea of the training process is to adjust iteratively the weights of our model in order to minimize the loss function. \n",
    "\n",
    "And this is where the optimizer comes in. In each training step, the optimizer updates the weights of the model w.r.t. the output of the loss function, thereby linking the loss function and model parameters together. The goal is to obtain a model which is accurately predicting the class for a new sample.\n",
    "\n",
    "\n",
    "Any discussion about optimizers needs to begin with the most popular one, and it's called Gradient Descent. This algorithm is used across all types of Machine Learning (and other math problems) to optimize. It's fast, robust, and flexible. Here's how it works:\n",
    "\n",
    "\n",
    "0. Initialize the weights with random values.\n",
    "1. Calculate loss with the current weights and the loss function.\n",
    "2. Calculate the gradient of the loss function w.r.t. the weights.\n",
    "3. Update weights with the corresponding gradient.\n",
    "4. Iteratively perform Step 1 to 3 until converges.\n",
    "\n",
    "The name of the optimizer already hints at the required concept: We use gradients which are very useful for minimizing a function. The gradient of the loss function w.r.t to the weights $w$ of our model tells us how to change our weights $w$ in order to minimize our loss function. \n",
    "\n",
    "The weights are updated each step as follows:\n",
    "$$ w^{(n+1)} = w^{(n)} - \\alpha \\cdot \\frac {dL}{dw}, $$\n",
    "where $ \\frac {dL}{dw}$ is the gradient of your loss function w.r.t. the weights $w$ and $\\alpha$ is the learning rate which is a predefined positive scalar determining the size of the step."
   ]
  },
  {
   "cell_type": "markdown",
   "metadata": {
    "pycharm": {
     "name": "#%% md\n"
    }
   },
   "source": [
    "\n",
    "In our model, we will use gradient descent to update the weights. Take a look at the ```Optimizer``` class in the file ```networks/optimizer.py```. The gradient descent step is implemented in the ```step()``` method. "
   ]
  },
  {
   "cell_type": "markdown",
   "metadata": {},
   "source": [
    "## 5. Training\n",
    "\n",
    "We have now implemented all the necessary parts of our training process, namely:\n",
    "- **Classifier Model:** We set up a simple classifier model and you implemented the corresponding ```forward()``` and ```backward()``` methods.\n",
    "- **Loss function:** We chose the Binary Cross Entropy Loss for our model to measure the distance between the prediction of our model and the ground-truth labels. You implemented a forward and backward pass for the loss function.\n",
    "- **Optimizer**: We use the Gradient Descent method to update the weights of our model. Here, you implemented the ```step()``` function which performs the update of the weights. \n",
    "\n",
    "\n",
    "Regarding weight initialization: we randomly initializes the weights of our classifier model. Later, we will use more efficient methods to initialize the weights. But for now, a random initialization as it happens in the ```initialize_weights()``` method is sufficient.\n",
    "\n",
    "\n",
    "Let's start with our classifier model and look at its performance before any training happened. "
   ]
  },
  {
   "cell_type": "code",
   "execution_count": 4,
   "metadata": {
    "pycharm": {
     "name": "#%%\n"
    }
   },
   "outputs": [
    {
     "data": {
      "text/plain": [
       "[<matplotlib.lines.Line2D at 0x13797b550>]"
      ]
     },
     "execution_count": 4,
     "metadata": {},
     "output_type": "execute_result"
    },
    {
     "data": {
      "image/png": "[encoded data removed]",
      "text/plain": [
       "<Figure size 640x480 with 1 Axes>"
      ]
     },
     "metadata": {},
     "output_type": "display_data"
    }
   ],
   "source": [
    "from dl_zero2one.networks.classifier import Classifier\n",
    "\n",
    "#initialization\n",
    "model = Classifier(num_features=1)\n",
    "model.initialize_weights()\n",
    "\n",
    "y_out, _ = model(X_train)\n",
    "\n",
    "# plot the prediction\n",
    "plt.scatter(X_train, y_train)\n",
    "plt.plot(X_train, y_out, color='r')"
   ]
  },
  {
   "cell_type": "markdown",
   "metadata": {},
   "source": [
    "As we can see the predictions of our model without any training are very bad. Let's see how the performance improves when we start our training, which means that we update our weights by applying the gradient descent method. The following cell combines the forward- and backward passes with the gradient update step and performs a training step for our classifier:\n",
    "\n",
    "\n",
    "Note that the ```Classifier``` class is derived from the more general ```Network``` class. It is worth having a look at the basis class ```Network``` in the file ```dl_zero2one/networks/base_networks.py```. We will make use of the ```__call__()``` method, which computes the forward and backward pass of your classifier. In a similar manner, we use the ```__call__()``` function for our Loss function.\n",
    "\n",
    "\n",
    "The following cell performs training with 400 training steps:"
   ]
  },
  {
   "cell_type": "code",
   "execution_count": 5,
   "metadata": {},
   "outputs": [
    {
     "name": "stdout",
     "output_type": "stream",
     "text": [
      "Epoch  0 --- Average Loss:  0.6931896991724897\n",
      "Epoch  10 --- Average Loss:  0.6841037468351105\n",
      "Epoch  20 --- Average Loss:  0.6755342624373963\n",
      "Epoch  30 --- Average Loss:  0.6672715351422882\n",
      "Epoch  40 --- Average Loss:  0.6592931566782693\n",
      "Epoch  50 --- Average Loss:  0.6515876003379939\n",
      "Epoch  60 --- Average Loss:  0.6441441711652186\n",
      "Epoch  70 --- Average Loss:  0.6369524656064102\n",
      "Epoch  80 --- Average Loss:  0.6300023679804804\n",
      "Epoch  90 --- Average Loss:  0.6232840712628336\n",
      "Epoch  100 --- Average Loss:  0.6167880936032102\n",
      "Epoch  110 --- Average Loss:  0.6105052895856771\n",
      "Epoch  120 --- Average Loss:  0.6044268567954993\n",
      "Epoch  130 --- Average Loss:  0.5985443383383181\n",
      "Epoch  140 --- Average Loss:  0.5928496219408043\n",
      "Epoch  150 --- Average Loss:  0.587334936224387\n",
      "Epoch  160 --- Average Loss:  0.5819928446931584\n",
      "Epoch  170 --- Average Loss:  0.5768162379192188\n",
      "Epoch  180 --- Average Loss:  0.5717983243482831\n",
      "Epoch  190 --- Average Loss:  0.5669326200888627\n",
      "Epoch  200 --- Average Loss:  0.5622129379921585\n",
      "Epoch  210 --- Average Loss:  0.5576333762784305\n",
      "Epoch  220 --- Average Loss:  0.5531883069197431\n",
      "Epoch  230 --- Average Loss:  0.548872363948864\n",
      "Epoch  240 --- Average Loss:  0.5446804318295426\n",
      "Epoch  250 --- Average Loss:  0.5406076339940605\n",
      "Epoch  260 --- Average Loss:  0.5366493216293345\n",
      "Epoch  270 --- Average Loss:  0.5328010627724277\n",
      "Epoch  280 --- Average Loss:  0.529058631759532\n",
      "Epoch  290 --- Average Loss:  0.5254179990588268\n",
      "Epoch  300 --- Average Loss:  0.5218753215065894\n",
      "Epoch  310 --- Average Loss:  0.5184269329571392\n",
      "Epoch  320 --- Average Loss:  0.5150693353502425\n",
      "Epoch  330 --- Average Loss:  0.5117991901941761\n",
      "Epoch  340 --- Average Loss:  0.5086133104584738\n",
      "Epoch  350 --- Average Loss:  0.5055086528672263\n",
      "Epoch  360 --- Average Loss:  0.5024823105814764\n",
      "Epoch  370 --- Average Loss:  0.499531506257588\n",
      "Epoch  380 --- Average Loss:  0.49665358546734617\n",
      "Epoch  390 --- Average Loss:  0.4938460104648335\n"
     ]
    }
   ],
   "source": [
    "from dl_zero2one.networks.optimizer import *\n",
    "from dl_zero2one.networks.classifier import *\n",
    "# Hyperparameter Setting, we will specify the loss function we use, and implement the optimizer we finished in the last step.\n",
    "num_features = 1\n",
    "\n",
    "# initialization\n",
    "model = Classifier(num_features=num_features)\n",
    "model.initialize_weights()\n",
    "\n",
    "loss_func = BCE() \n",
    "learning_rate = 5e-1\n",
    "loss_history = []\n",
    "opt = Optimizer(model,learning_rate)\n",
    "\n",
    "steps = 400\n",
    "# Full batch Gradient Descent\n",
    "for i in range(steps):\n",
    "    \n",
    "    # Enable your model to store the gradient.\n",
    "    model.train()\n",
    "    \n",
    "    # Compute the output and gradients w.r.t weights of your model for the input dataset.\n",
    "    model_forward, model_backward = model(X_train)\n",
    "    \n",
    "    # Compute the loss and gradients w.r.t output of the model.\n",
    "    loss, loss_grad = loss_func(model_forward, y_train)\n",
    "    \n",
    "    # Use back prop method to get the gradients of loss w.r.t the weights.\n",
    "    grad = loss_grad * model_backward\n",
    "    \n",
    "    # Compute the average gradient over your batch\n",
    "    grad = np.mean(grad, 0, keepdims = True)\n",
    "\n",
    "    # After obtaining the gradients of loss with respect to the weights, we can use optimizer to\n",
    "    # do gradient descent step.\n",
    "    # Take transpose to have the same shape ([D+1,1]) as weights.\n",
    "    opt.step(grad.T)\n",
    "    \n",
    "    # Average over the loss of the entire dataset and store it.\n",
    "    average_loss = np.mean(loss)\n",
    "    loss_history.append(average_loss)\n",
    "    if i%10 == 0:\n",
    "        print(\"Epoch \",i,\"--- Average Loss: \", average_loss)\n"
   ]
  },
  {
   "cell_type": "markdown",
   "metadata": {},
   "source": [
    "We can see that our average loss is decreasing as expected. Let us visualize the average loss and the prediction after our short training:"
   ]
  },
  {
   "cell_type": "code",
   "execution_count": 6,
   "metadata": {
    "pycharm": {
     "name": "#%%\n"
    }
   },
   "outputs": [
    {
     "data": {
      "image/png": "[encoded data removed]",
      "text/plain": [
       "<Figure size 640x480 with 1 Axes>"
      ]
     },
     "metadata": {},
     "output_type": "display_data"
    },
    {
     "data": {
      "image/png": "[encoded data removed]",
      "text/plain": [
       "<Figure size 640x480 with 1 Axes>"
      ]
     },
     "metadata": {},
     "output_type": "display_data"
    }
   ],
   "source": [
    "# Plot the loss history to see how it goes after several steps of gradient descent.\n",
    "plt.plot(loss_history, label = 'Train Loss')\n",
    "plt.xlabel('iteration')\n",
    "plt.ylabel('training loss')\n",
    "plt.title('Training Loss history')\n",
    "plt.legend()\n",
    "plt.show()\n",
    "\n",
    "\n",
    "# forward pass\n",
    "y_out, _ = model(X_train)\n",
    "\n",
    "\n",
    "# plot the prediction\n",
    "plt.scatter(X_train, y_train, label = 'Ground Truth')\n",
    "inds = X_train.argsort(0).flatten()\n",
    "plt.plot(X_train[inds], y_out[inds], color='r', label = 'Prediction')\n",
    "plt.title('Prediction of our trained model')\n",
    "plt.legend()\n",
    "plt.show()"
   ]
  },
  {
   "cell_type": "markdown",
   "metadata": {},
   "source": [
    "This looks pretty good already and our model gets better in explaining the underlying relationship of data."
   ]
  },
  {
   "cell_type": "markdown",
   "metadata": {},
   "source": [
    "## 6. Solver\n",
    "\n",
    "Now we want to put everything we have learned so far together in an organized and concise way, that provides easy access to train a network/model in your own script/code. The purpose of a solver is mainly to provide an abstraction for all the gritty details behind training your parameters, such as logging your progress, optimizing your model, and handling your data.\n",
    "\n",
    "This part of the exercise will require you to complete the missing code in the ```Solver``` class and to train your model end to end.\n"
   ]
  },
  {
   "cell_type": "markdown",
   "metadata": {},
   "source": [
    "Open the file `dl_zero2one/solver.py` and have a look at the `Solver` class. The `_step()` function is representing one single training step. So when using the Gradient Descent method, it represents one single update step using the Gradient Descent method. "
   ]
  },
  {
   "cell_type": "code",
   "execution_count": 7,
   "metadata": {
    "pycharm": {
     "name": "#%%\n"
    }
   },
   "outputs": [
    {
     "name": "stdout",
     "output_type": "stream",
     "text": [
      "Solver Step incorrect.\n",
      "Expected: [[0.11574258], [0.0832162]]\n",
      "Evaluated: [[0.11773185]\n",
      " [0.08432409]]\n",
      "Test cases are still failing! Tests passed: 0/1\n",
      "Score: 0/100\n"
     ]
    },
    {
     "data": {
      "text/plain": [
       "0"
      ]
     },
     "execution_count": 7,
     "metadata": {},
     "output_type": "execute_result"
    }
   ],
   "source": [
    "from dl_zero2one.solver_minimal import Solver\n",
    "from dl_zero2one.networks.classifier import Classifier\n",
    "from dl_zero2one.tests.solver_tests import *\n",
    "weights = np.array([[0.1],[0.1]])\n",
    "TestClassifier = Classifier(num_features=1)\n",
    "TestClassifier.initialize_weights(weights)\n",
    "learning_rate = 5e-1\n",
    "data = {'X_train': X_train, 'y_train': y_train,\n",
    "        'X_val': X_val, 'y_val': y_val}\n",
    "loss = BCE()\n",
    "solver = Solver(TestClassifier,data,loss,learning_rate,verbose=True)\n",
    "\n",
    "test_solver(solver)"
   ]
  },
  {
   "cell_type": "markdown",
   "metadata": {},
   "source": [
    "After having successfully implemented the `step()` function in the `Optimizer` class, let us now train our classifier. We train our model with a learning rate $ \\lambda = 0.1$ and with 25000 epochs. Your model should reach an accuracy which is higher than 85%. "
   ]
  },
  {
   "cell_type": "code",
   "execution_count": 9,
   "metadata": {
    "pycharm": {
     "name": "#%%\n"
    }
   },
   "outputs": [
    {
     "name": "stdout",
     "output_type": "stream",
     "text": [
      "Accuracy BEFORE training 46.3%\n"
     ]
    },
    {
     "data": {
      "image/png": "[encoded data removed]",
      "text/plain": [
       "<Figure size 640x480 with 1 Axes>"
      ]
     },
     "metadata": {},
     "output_type": "display_data"
    }
   ],
   "source": [
    "from dl_zero2one.solver_minimal import Solver\n",
    "from dl_zero2one.networks.utils import test_accuracy\n",
    "from dl_zero2one.networks.classifier import Classifier\n",
    "# Select the number of features, you want your task to train on.\n",
    "# Feel free to play with the sizes.\n",
    "num_features = 1\n",
    "\n",
    "# initialize model and weights\n",
    "model = Classifier(num_features=num_features)\n",
    "model.initialize_weights()\n",
    "\n",
    "y_out, _ = model(X_test)\n",
    "\n",
    "accuracy = test_accuracy(y_out, y_test)\n",
    "print(\"Accuracy BEFORE training {:.1f}%\".format(accuracy*100))\n",
    "\n",
    "\n",
    "if np.shape(X_test)[1]==1:\n",
    "    plt.scatter(X_test, y_test, label = \"Ground Truth\")\n",
    "    inds = X_test.flatten().argsort(0)\n",
    "    plt.plot(X_test[inds], y_out[inds], color='r', label = \"Prediction\")\n",
    "    plt.legend()\n",
    "    plt.show()\n",
    "\n",
    "data = {'X_train': X_train, 'y_train': y_train,\n",
    "        'X_val': X_val, 'y_val': y_val}\n",
    "\n",
    "#We use the BCE loss\n",
    "loss = BCE()\n"
   ]
  },
  {
   "cell_type": "code",
   "execution_count": 10,
   "metadata": {},
   "outputs": [
    {
     "name": "stdout",
     "output_type": "stream",
     "text": [
      "(Epoch 0 / 1000000) train loss: 0.692818; val_loss: 0.692828\n",
      "(Epoch 6000 / 1000000) train loss: 0.338489; val_loss: 0.357442\n",
      "(Epoch 12000 / 1000000) train loss: 0.315178; val_loss: 0.337735\n",
      "(Epoch 18000 / 1000000) train loss: 0.308789; val_loss: 0.333485\n",
      "(Epoch 24000 / 1000000) train loss: 0.306412; val_loss: 0.332488\n",
      "(Epoch 30000 / 1000000) train loss: 0.305398; val_loss: 0.332404\n",
      "(Epoch 36000 / 1000000) train loss: 0.304931; val_loss: 0.332579\n",
      "(Epoch 42000 / 1000000) train loss: 0.304706; val_loss: 0.332805\n",
      "(Epoch 48000 / 1000000) train loss: 0.304594; val_loss: 0.333014\n",
      "(Epoch 54000 / 1000000) train loss: 0.304537; val_loss: 0.333186\n",
      "(Epoch 60000 / 1000000) train loss: 0.304508; val_loss: 0.333322\n",
      "(Epoch 66000 / 1000000) train loss: 0.304493; val_loss: 0.333426\n",
      "(Epoch 72000 / 1000000) train loss: 0.304485; val_loss: 0.333505\n",
      "(Epoch 78000 / 1000000) train loss: 0.304481; val_loss: 0.333563\n",
      "(Epoch 84000 / 1000000) train loss: 0.304479; val_loss: 0.333607\n",
      "(Epoch 90000 / 1000000) train loss: 0.304478; val_loss: 0.333639\n",
      "(Epoch 96000 / 1000000) train loss: 0.304477; val_loss: 0.333662\n",
      "(Epoch 102000 / 1000000) train loss: 0.304477; val_loss: 0.333680\n",
      "(Epoch 108000 / 1000000) train loss: 0.304477; val_loss: 0.333692\n",
      "(Epoch 114000 / 1000000) train loss: 0.304477; val_loss: 0.333702\n",
      "(Epoch 120000 / 1000000) train loss: 0.304476; val_loss: 0.333708\n",
      "(Epoch 126000 / 1000000) train loss: 0.304476; val_loss: 0.333713\n",
      "(Epoch 132000 / 1000000) train loss: 0.304476; val_loss: 0.333717\n",
      "(Epoch 138000 / 1000000) train loss: 0.304476; val_loss: 0.333720\n",
      "(Epoch 144000 / 1000000) train loss: 0.304476; val_loss: 0.333721\n",
      "(Epoch 150000 / 1000000) train loss: 0.304476; val_loss: 0.333723\n",
      "(Epoch 156000 / 1000000) train loss: 0.304476; val_loss: 0.333724\n",
      "(Epoch 162000 / 1000000) train loss: 0.304476; val_loss: 0.333725\n",
      "(Epoch 168000 / 1000000) train loss: 0.304476; val_loss: 0.333725\n",
      "(Epoch 174000 / 1000000) train loss: 0.304476; val_loss: 0.333726\n",
      "(Epoch 180000 / 1000000) train loss: 0.304476; val_loss: 0.333726\n",
      "(Epoch 186000 / 1000000) train loss: 0.304476; val_loss: 0.333726\n",
      "(Epoch 192000 / 1000000) train loss: 0.304476; val_loss: 0.333726\n",
      "(Epoch 198000 / 1000000) train loss: 0.304476; val_loss: 0.333726\n",
      "(Epoch 204000 / 1000000) train loss: 0.304476; val_loss: 0.333726\n",
      "(Epoch 210000 / 1000000) train loss: 0.304476; val_loss: 0.333726\n",
      "(Epoch 216000 / 1000000) train loss: 0.304476; val_loss: 0.333727\n",
      "(Epoch 222000 / 1000000) train loss: 0.304476; val_loss: 0.333727\n",
      "(Epoch 228000 / 1000000) train loss: 0.304476; val_loss: 0.333727\n",
      "(Epoch 234000 / 1000000) train loss: 0.304476; val_loss: 0.333727\n",
      "(Epoch 240000 / 1000000) train loss: 0.304476; val_loss: 0.333727\n",
      "(Epoch 246000 / 1000000) train loss: 0.304476; val_loss: 0.333727\n",
      "(Epoch 252000 / 1000000) train loss: 0.304476; val_loss: 0.333727\n",
      "(Epoch 258000 / 1000000) train loss: 0.304476; val_loss: 0.333727\n",
      "(Epoch 264000 / 1000000) train loss: 0.304476; val_loss: 0.333727\n",
      "(Epoch 270000 / 1000000) train loss: 0.304476; val_loss: 0.333727\n",
      "(Epoch 276000 / 1000000) train loss: 0.304476; val_loss: 0.333727\n",
      "(Epoch 282000 / 1000000) train loss: 0.304476; val_loss: 0.333727\n",
      "(Epoch 288000 / 1000000) train loss: 0.304476; val_loss: 0.333727\n",
      "(Epoch 294000 / 1000000) train loss: 0.304476; val_loss: 0.333727\n",
      "(Epoch 300000 / 1000000) train loss: 0.304476; val_loss: 0.333727\n",
      "(Epoch 306000 / 1000000) train loss: 0.304476; val_loss: 0.333727\n",
      "(Epoch 312000 / 1000000) train loss: 0.304476; val_loss: 0.333727\n",
      "(Epoch 318000 / 1000000) train loss: 0.304476; val_loss: 0.333727\n",
      "(Epoch 324000 / 1000000) train loss: 0.304476; val_loss: 0.333727\n",
      "(Epoch 330000 / 1000000) train loss: 0.304476; val_loss: 0.333727\n",
      "(Epoch 336000 / 1000000) train loss: 0.304476; val_loss: 0.333727\n",
      "(Epoch 342000 / 1000000) train loss: 0.304476; val_loss: 0.333727\n",
      "(Epoch 348000 / 1000000) train loss: 0.304476; val_loss: 0.333727\n",
      "(Epoch 354000 / 1000000) train loss: 0.304476; val_loss: 0.333727\n",
      "(Epoch 360000 / 1000000) train loss: 0.304476; val_loss: 0.333727\n",
      "(Epoch 366000 / 1000000) train loss: 0.304476; val_loss: 0.333727\n",
      "(Epoch 372000 / 1000000) train loss: 0.304476; val_loss: 0.333727\n",
      "(Epoch 378000 / 1000000) train loss: 0.304476; val_loss: 0.333727\n",
      "(Epoch 384000 / 1000000) train loss: 0.304476; val_loss: 0.333727\n",
      "(Epoch 390000 / 1000000) train loss: 0.304476; val_loss: 0.333727\n",
      "(Epoch 396000 / 1000000) train loss: 0.304476; val_loss: 0.333727\n",
      "(Epoch 402000 / 1000000) train loss: 0.304476; val_loss: 0.333727\n",
      "(Epoch 408000 / 1000000) train loss: 0.304476; val_loss: 0.333727\n",
      "(Epoch 414000 / 1000000) train loss: 0.304476; val_loss: 0.333727\n",
      "(Epoch 420000 / 1000000) train loss: 0.304476; val_loss: 0.333727\n",
      "(Epoch 426000 / 1000000) train loss: 0.304476; val_loss: 0.333727\n",
      "(Epoch 432000 / 1000000) train loss: 0.304476; val_loss: 0.333727\n",
      "(Epoch 438000 / 1000000) train loss: 0.304476; val_loss: 0.333727\n",
      "(Epoch 444000 / 1000000) train loss: 0.304476; val_loss: 0.333727\n",
      "(Epoch 450000 / 1000000) train loss: 0.304476; val_loss: 0.333727\n",
      "(Epoch 456000 / 1000000) train loss: 0.304476; val_loss: 0.333727\n",
      "(Epoch 462000 / 1000000) train loss: 0.304476; val_loss: 0.333727\n",
      "(Epoch 468000 / 1000000) train loss: 0.304476; val_loss: 0.333727\n",
      "(Epoch 474000 / 1000000) train loss: 0.304476; val_loss: 0.333727\n",
      "(Epoch 480000 / 1000000) train loss: 0.304476; val_loss: 0.333727\n",
      "(Epoch 486000 / 1000000) train loss: 0.304476; val_loss: 0.333727\n",
      "(Epoch 492000 / 1000000) train loss: 0.304476; val_loss: 0.333727\n",
      "(Epoch 498000 / 1000000) train loss: 0.304476; val_loss: 0.333727\n",
      "(Epoch 504000 / 1000000) train loss: 0.304476; val_loss: 0.333727\n",
      "(Epoch 510000 / 1000000) train loss: 0.304476; val_loss: 0.333727\n",
      "(Epoch 516000 / 1000000) train loss: 0.304476; val_loss: 0.333727\n",
      "(Epoch 522000 / 1000000) train loss: 0.304476; val_loss: 0.333727\n",
      "(Epoch 528000 / 1000000) train loss: 0.304476; val_loss: 0.333727\n",
      "(Epoch 534000 / 1000000) train loss: 0.304476; val_loss: 0.333727\n",
      "(Epoch 540000 / 1000000) train loss: 0.304476; val_loss: 0.333727\n",
      "(Epoch 546000 / 1000000) train loss: 0.304476; val_loss: 0.333727\n",
      "(Epoch 552000 / 1000000) train loss: 0.304476; val_loss: 0.333727\n",
      "(Epoch 558000 / 1000000) train loss: 0.304476; val_loss: 0.333727\n",
      "(Epoch 564000 / 1000000) train loss: 0.304476; val_loss: 0.333727\n",
      "(Epoch 570000 / 1000000) train loss: 0.304476; val_loss: 0.333727\n",
      "(Epoch 576000 / 1000000) train loss: 0.304476; val_loss: 0.333727\n",
      "(Epoch 582000 / 1000000) train loss: 0.304476; val_loss: 0.333727\n",
      "(Epoch 588000 / 1000000) train loss: 0.304476; val_loss: 0.333727\n",
      "(Epoch 594000 / 1000000) train loss: 0.304476; val_loss: 0.333727\n",
      "(Epoch 600000 / 1000000) train loss: 0.304476; val_loss: 0.333727\n",
      "(Epoch 606000 / 1000000) train loss: 0.304476; val_loss: 0.333727\n",
      "(Epoch 612000 / 1000000) train loss: 0.304476; val_loss: 0.333727\n",
      "(Epoch 618000 / 1000000) train loss: 0.304476; val_loss: 0.333727\n",
      "(Epoch 624000 / 1000000) train loss: 0.304476; val_loss: 0.333727\n",
      "(Epoch 630000 / 1000000) train loss: 0.304476; val_loss: 0.333727\n",
      "(Epoch 636000 / 1000000) train loss: 0.304476; val_loss: 0.333727\n",
      "(Epoch 642000 / 1000000) train loss: 0.304476; val_loss: 0.333727\n",
      "(Epoch 648000 / 1000000) train loss: 0.304476; val_loss: 0.333727\n",
      "(Epoch 654000 / 1000000) train loss: 0.304476; val_loss: 0.333727\n",
      "(Epoch 660000 / 1000000) train loss: 0.304476; val_loss: 0.333727\n",
      "(Epoch 666000 / 1000000) train loss: 0.304476; val_loss: 0.333727\n",
      "(Epoch 672000 / 1000000) train loss: 0.304476; val_loss: 0.333727\n",
      "(Epoch 678000 / 1000000) train loss: 0.304476; val_loss: 0.333727\n",
      "(Epoch 684000 / 1000000) train loss: 0.304476; val_loss: 0.333727\n",
      "(Epoch 690000 / 1000000) train loss: 0.304476; val_loss: 0.333727\n",
      "(Epoch 696000 / 1000000) train loss: 0.304476; val_loss: 0.333727\n",
      "(Epoch 702000 / 1000000) train loss: 0.304476; val_loss: 0.333727\n",
      "(Epoch 708000 / 1000000) train loss: 0.304476; val_loss: 0.333727\n",
      "(Epoch 714000 / 1000000) train loss: 0.304476; val_loss: 0.333727\n",
      "(Epoch 720000 / 1000000) train loss: 0.304476; val_loss: 0.333727\n",
      "(Epoch 726000 / 1000000) train loss: 0.304476; val_loss: 0.333727\n",
      "(Epoch 732000 / 1000000) train loss: 0.304476; val_loss: 0.333727\n",
      "(Epoch 738000 / 1000000) train loss: 0.304476; val_loss: 0.333727\n",
      "(Epoch 744000 / 1000000) train loss: 0.304476; val_loss: 0.333727\n",
      "(Epoch 750000 / 1000000) train loss: 0.304476; val_loss: 0.333727\n",
      "(Epoch 756000 / 1000000) train loss: 0.304476; val_loss: 0.333727\n",
      "(Epoch 762000 / 1000000) train loss: 0.304476; val_loss: 0.333727\n",
      "(Epoch 768000 / 1000000) train loss: 0.304476; val_loss: 0.333727\n",
      "(Epoch 774000 / 1000000) train loss: 0.304476; val_loss: 0.333727\n",
      "(Epoch 780000 / 1000000) train loss: 0.304476; val_loss: 0.333727\n",
      "(Epoch 786000 / 1000000) train loss: 0.304476; val_loss: 0.333727\n",
      "(Epoch 792000 / 1000000) train loss: 0.304476; val_loss: 0.333727\n",
      "(Epoch 798000 / 1000000) train loss: 0.304476; val_loss: 0.333727\n",
      "(Epoch 804000 / 1000000) train loss: 0.304476; val_loss: 0.333727\n",
      "(Epoch 810000 / 1000000) train loss: 0.304476; val_loss: 0.333727\n",
      "(Epoch 816000 / 1000000) train loss: 0.304476; val_loss: 0.333727\n",
      "(Epoch 822000 / 1000000) train loss: 0.304476; val_loss: 0.333727\n",
      "(Epoch 828000 / 1000000) train loss: 0.304476; val_loss: 0.333727\n",
      "(Epoch 834000 / 1000000) train loss: 0.304476; val_loss: 0.333727\n",
      "(Epoch 840000 / 1000000) train loss: 0.304476; val_loss: 0.333727\n",
      "(Epoch 846000 / 1000000) train loss: 0.304476; val_loss: 0.333727\n",
      "(Epoch 852000 / 1000000) train loss: 0.304476; val_loss: 0.333727\n",
      "(Epoch 858000 / 1000000) train loss: 0.304476; val_loss: 0.333727\n",
      "(Epoch 864000 / 1000000) train loss: 0.304476; val_loss: 0.333727\n",
      "(Epoch 870000 / 1000000) train loss: 0.304476; val_loss: 0.333727\n",
      "(Epoch 876000 / 1000000) train loss: 0.304476; val_loss: 0.333727\n",
      "(Epoch 882000 / 1000000) train loss: 0.304476; val_loss: 0.333727\n",
      "(Epoch 888000 / 1000000) train loss: 0.304476; val_loss: 0.333727\n",
      "(Epoch 894000 / 1000000) train loss: 0.304476; val_loss: 0.333727\n",
      "(Epoch 900000 / 1000000) train loss: 0.304476; val_loss: 0.333727\n",
      "(Epoch 906000 / 1000000) train loss: 0.304476; val_loss: 0.333727\n",
      "(Epoch 912000 / 1000000) train loss: 0.304476; val_loss: 0.333727\n",
      "(Epoch 918000 / 1000000) train loss: 0.304476; val_loss: 0.333727\n",
      "(Epoch 924000 / 1000000) train loss: 0.304476; val_loss: 0.333727\n",
      "(Epoch 930000 / 1000000) train loss: 0.304476; val_loss: 0.333727\n",
      "(Epoch 936000 / 1000000) train loss: 0.304476; val_loss: 0.333727\n",
      "(Epoch 942000 / 1000000) train loss: 0.304476; val_loss: 0.333727\n",
      "(Epoch 948000 / 1000000) train loss: 0.304476; val_loss: 0.333727\n",
      "(Epoch 954000 / 1000000) train loss: 0.304476; val_loss: 0.333727\n",
      "(Epoch 960000 / 1000000) train loss: 0.304476; val_loss: 0.333727\n",
      "(Epoch 966000 / 1000000) train loss: 0.304476; val_loss: 0.333727\n",
      "(Epoch 972000 / 1000000) train loss: 0.304476; val_loss: 0.333727\n",
      "(Epoch 978000 / 1000000) train loss: 0.304476; val_loss: 0.333727\n",
      "(Epoch 984000 / 1000000) train loss: 0.304476; val_loss: 0.333727\n",
      "(Epoch 990000 / 1000000) train loss: 0.304476; val_loss: 0.333727\n",
      "(Epoch 996000 / 1000000) train loss: 0.304476; val_loss: 0.333727\n",
      "Accuracy AFTER training 86.5%\n"
     ]
    }
   ],
   "source": [
    "learning_rate = 2e-1\n",
    "epochs = 1000000\n",
    "\n",
    "# Setup for the actual solver that's going to do the job of training\n",
    "# the model on the given data. set 'verbose=True' to see real time \n",
    "# progress of the training.\n",
    "solver = Solver(model=model, \n",
    "                data=data, \n",
    "                loss_func=loss,\n",
    "                learning_rate=learning_rate, \n",
    "                verbose=True, \n",
    "                print_every = 6000)\n",
    "# Train the model, and look at the results.\n",
    "solver.train(epochs)\n",
    "\n",
    "\n",
    "# Test final performance\n",
    "y_out, _ = model(X_test)\n",
    "\n",
    "accuracy = test_accuracy(y_out, y_test)\n",
    "print(\"Accuracy AFTER training {:.1f}%\".format(accuracy*100))"
   ]
  },
  {
   "cell_type": "markdown",
   "metadata": {
    "pycharm": {
     "name": "#%% md\n"
    }
   },
   "source": [
    "During the training process losses in each epoch are stored in the lists `solver.train_loss_history` and `solver.val_loss_history`. We can use them to plot the training result easily."
   ]
  },
  {
   "cell_type": "code",
   "execution_count": 12,
   "metadata": {
    "pycharm": {
     "name": "#%%\n"
    }
   },
   "outputs": [
    {
     "data": {
      "image/png": "[encoded data removed]",
      "text/plain": [
       "<Figure size 640x480 with 1 Axes>"
      ]
     },
     "metadata": {},
     "output_type": "display_data"
    },
    {
     "data": {
      "image/png": "[encoded data removed]",
      "text/plain": [
       "<Figure size 640x480 with 1 Axes>"
      ]
     },
     "metadata": {},
     "output_type": "display_data"
    }
   ],
   "source": [
    "plt.plot(solver.val_loss_history, label = \"Validation Loss\")\n",
    "plt.plot(solver.train_loss_history, label = \"Train Loss\")\n",
    "plt.xlabel(\"Epoch\")\n",
    "plt.ylabel(\"Loss\")\n",
    "plt.legend() \n",
    "plt.title('Training and Validation Loss')\n",
    "plt.show() \n",
    "\n",
    "\n",
    "if np.shape(X_test)[1]==1:\n",
    "\n",
    "    plt.scatter(X_test, y_test, label = \"Ground Truth\")\n",
    "    inds = X_test.argsort(0).flatten()\n",
    "    plt.plot(X_test[inds], y_out[inds], color='r', label = \"Prediction\")\n",
    "    plt.legend()\n",
    "    plt.title('Prediction of your trained model')\n",
    "    plt.show()"
   ]
  },
  {
   "cell_type": "code",
   "execution_count": null,
   "metadata": {},
   "outputs": [],
   "source": []
  }
 ],
 "metadata": {
  "kernelspec": {
   "display_name": "Python 3",
   "language": "python",
   "name": "python3"
  },
  "language_info": {
   "codemirror_mode": {
    "name": "ipython",
    "version": 3
   },
   "file_extension": ".py",
   "mimetype": "text/x-python",
   "name": "python",
   "nbconvert_exporter": "python",
   "pygments_lexer": "ipython3",
   "version": "3.8.19"
  }
 },
 "nbformat": 4,
 "nbformat_minor": 2
}
